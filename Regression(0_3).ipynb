{
  "nbformat": 4,
  "nbformat_minor": 0,
  "metadata": {
    "colab": {
      "name": "Regression(0.3).ipynb",
      "provenance": [],
      "collapsed_sections": [],
      "include_colab_link": true
    },
    "kernelspec": {
      "name": "python3",
      "display_name": "Python 3"
    },
    "language_info": {
      "name": "python"
    }
  },
  "cells": [
    {
      "cell_type": "markdown",
      "metadata": {
        "id": "view-in-github",
        "colab_type": "text"
      },
      "source": [
        "<a href=\"https://colab.research.google.com/github/CedricBone/Genesee-River/blob/main/Regression(0_3).ipynb\" target=\"_parent\"><img src=\"https://colab.research.google.com/assets/colab-badge.svg\" alt=\"Open In Colab\"/></a>"
      ]
    },
    {
      "cell_type": "markdown",
      "metadata": {
        "id": "oDxzb0qJXISC"
      },
      "source": [
        "## **Genesee River Predictions** (GRP) 0.0\n",
        "## https://dashboard.waterdata.usgs.gov/app/nwd/?region=lower48&aoi=default"
      ]
    },
    {
      "cell_type": "code",
      "metadata": {
        "colab": {
          "base_uri": "https://localhost:8080/"
        },
        "id": "ItkQ2HccmgjP",
        "outputId": "e4158131-4ba0-4d36-fab3-44d936b7d448"
      },
      "source": [
        "from google.colab import drive\n",
        "drive.mount('/content/drive')"
      ],
      "execution_count": null,
      "outputs": [
        {
          "output_type": "stream",
          "name": "stdout",
          "text": [
            "Mounted at /content/drive\n"
          ]
        }
      ]
    },
    {
      "cell_type": "code",
      "metadata": {
        "id": "Imrj9n75XGxE"
      },
      "source": [
        "import numpy as np\n",
        "import csv\n",
        "import matplotlib.pyplot as plt\n",
        "import pandas as pd\n",
        "import seaborn as sns\n",
        "# Make NumPy printouts easier to read.\n",
        "np.set_printoptions(precision=3, suppress=True)\n",
        "import tensorflow as tf\n",
        "from tensorflow import keras\n",
        "from tensorflow.keras import layers\n",
        "from tensorflow.keras.layers.experimental import preprocessing"
      ],
      "execution_count": null,
      "outputs": []
    },
    {
      "cell_type": "code",
      "metadata": {
        "id": "pN4t0tEs_dvW"
      },
      "source": [
        "def plot_loss(history):\n",
        "  plt.plot(history.history['loss'], label='loss')\n",
        "  plt.plot(history.history['val_loss'], label='val_loss')\n",
        "  plt.ylim([0, 10])\n",
        "  plt.xlabel('Epoch')\n",
        "  plt.ylabel('Error [MPG]')\n",
        "  plt.legend()\n",
        "  plt.grid(True)"
      ],
      "execution_count": null,
      "outputs": []
    },
    {
      "cell_type": "code",
      "metadata": {
        "id": "1nnVEm0Op55G"
      },
      "source": [
        "def AAAAA(list):\n",
        "  row = 0\n",
        "  for data in list:\n",
        "    if(data == ''):\n",
        "      data = -1\n",
        "      list[row] = -1\n",
        "    else:\n",
        "      try:\n",
        "        list[row] = int(data)\n",
        "      except:\n",
        "        list[row] = float(data)\n",
        "    row+=1"
      ],
      "execution_count": null,
      "outputs": []
    },
    {
      "cell_type": "code",
      "metadata": {
        "id": "7iTl1OObXG-a"
      },
      "source": [
        "train_data_path = '/content/drive/MyDrive/Fall 2021/Engineering Intramurals /Rochester(11-21).txt'\n",
        "\n",
        "dates = []           # Date\n",
        "times = []           # Time (EST)\n",
        "discharge = []       # Rate of Discharge (FT^3/s)\n",
        "temperature = []     # Temperature (C)\n",
        "PH = []              # PH \n",
        "dissolved_o2 = []    # Dissolved Oxygen (mg/L)\n",
        "gauge_height = []    # Gauge Height (Ft)\n",
        "\n",
        "\n",
        "with open(train_data_path, newline = '') as train_riverDataSets:\n",
        "    riverDataSet_reader = csv.reader(train_riverDataSets, delimiter='\\t')\n",
        "    for train_riverDataSet in riverDataSet_reader:\n",
        "      \n",
        "      dates.append(train_riverDataSet[2][0:10])\n",
        "      times.append(train_riverDataSet[2][11:])\n",
        "      discharge.append((train_riverDataSet[4]))\n",
        "      temperature.append((train_riverDataSet[6]))\n",
        "      PH.append((train_riverDataSet[8]))\n",
        "      dissolved_o2.append((train_riverDataSet[10]))\n",
        "      gauge_height.append((train_riverDataSet[12]))"
      ],
      "execution_count": null,
      "outputs": []
    },
    {
      "cell_type": "code",
      "metadata": {
        "id": "nGd9FmaVXHFC"
      },
      "source": [
        "year = []\n",
        "month = []\n",
        "day = []\n",
        "hour = []\n",
        "minute = []\n",
        "\n",
        "for date in dates:\n",
        "    year.append(int(date[0:4]))\n",
        "    month.append(int(date[5:7]))\n",
        "    day.append(int(date[8:]))\n",
        "    \n",
        "for time in times:\n",
        "    hour.append(int(time[0:2]))\n",
        "    minute.append(int(time[3:]))"
      ],
      "execution_count": null,
      "outputs": []
    },
    {
      "cell_type": "code",
      "metadata": {
        "id": "0O-AB4sFti4r"
      },
      "source": [
        "AAAAA(discharge)\n",
        "AAAAA(temperature)\n",
        "AAAAA(PH)\n",
        "AAAAA(dissolved_o2)\n",
        "AAAAA(gauge_height)\n",
        "AAAAA(year)\n",
        "AAAAA(month)\n",
        "AAAAA(day)\n",
        "AAAAA(hour)\n",
        "AAAAA(minute)"
      ],
      "execution_count": null,
      "outputs": []
    },
    {
      "cell_type": "code",
      "metadata": {
        "id": "mw5L31EAXHKK"
      },
      "source": [
        "train_riverData = []\n",
        "for number in range(len(dates)):\n",
        "    tempList = []\n",
        "    tempList.append(year[number])\n",
        "    tempList.append(month[number])\n",
        "    tempList.append(day[number])\n",
        "    tempList.append(hour[number])\n",
        "    tempList.append(minute[number])\n",
        "    tempList.append(discharge[number])\n",
        "    tempList.append(temperature[number])\n",
        "    tempList.append(PH[number])\n",
        "    tempList.append(dissolved_o2[number])\n",
        "    train_riverData.append(tempList)"
      ],
      "execution_count": null,
      "outputs": []
    },
    {
      "cell_type": "code",
      "metadata": {
        "id": "9PxP43lE-hgl"
      },
      "source": [
        "normalizer = tf.keras.layers.Normalization(axis=-1)\n",
        "normalizer.adapt(np.array(train_riverData))"
      ],
      "execution_count": null,
      "outputs": []
    },
    {
      "cell_type": "code",
      "metadata": {
        "id": "w_E63Ua7uIqA"
      },
      "source": [
        "def build_and_compile_model(norm):\n",
        "  model = keras.Sequential([\n",
        "      #keras.Input(shape=(9)),\n",
        "      norm,\n",
        "      layers.Dense(64, activation='relu'),\n",
        "      layers.Dense(64, activation='relu'),\n",
        "      layers.Dense(1)\n",
        "      ])\n",
        "  model.compile(loss='mean_absolute_error', optimizer=tf.keras.optimizers.Adam(0.001))\n",
        "  return model"
      ],
      "execution_count": null,
      "outputs": []
    },
    {
      "cell_type": "code",
      "metadata": {
        "id": "LwJhY6vfutgy"
      },
      "source": [
        "dnn_model = build_and_compile_model(normalizer)\n",
        "#dnn_model.summary()"
      ],
      "execution_count": null,
      "outputs": []
    },
    {
      "cell_type": "code",
      "metadata": {
        "colab": {
          "base_uri": "https://localhost:8080/"
        },
        "id": "-Mra3ZCWutoj",
        "outputId": "898cbeab-6eae-42f5-eb52-c2a3584173fa"
      },
      "source": [
        "%%time\n",
        "history = dnn_model.fit(\n",
        "    np.array(train_riverData),\n",
        "    np.array(gauge_height),\n",
        "    validation_split=0.2,\n",
        "    verbose=0, epochs=100)"
      ],
      "execution_count": null,
      "outputs": [
        {
          "output_type": "stream",
          "name": "stdout",
          "text": [
            "CPU times: user 24min 50s, sys: 2min 30s, total: 27min 20s\n",
            "Wall time: 19min 56s\n"
          ]
        }
      ]
    },
    {
      "cell_type": "code",
      "metadata": {
        "colab": {
          "base_uri": "https://localhost:8080/",
          "height": 283
        },
        "id": "YwOHBW09uxXS",
        "outputId": "f80cbc54-326a-4546-ee32-282e859e5ccf"
      },
      "source": [
        "plot_loss(history)"
      ],
      "execution_count": null,
      "outputs": [
        {
          "output_type": "display_data",
          "data": {
            "image/png": "[encoded data removed]",
            "text/plain": [
              "<Figure size 432x288 with 1 Axes>"
            ]
          },
          "metadata": {
            "needs_background": "light"
          }
        }
      ]
    },
    {
      "cell_type": "code",
      "metadata": {
        "colab": {
          "base_uri": "https://localhost:8080/"
        },
        "id": "BpOL4oqkwvYN",
        "outputId": "aed4fcb3-1d4e-48fc-9979-5936536d11ad"
      },
      "source": [
        "!mkdir -p saved_model\n",
        "dnn_model.save('/content/drive/MyDrive/Fall 2021/Engineering Intramurals')"
      ],
      "execution_count": null,
      "outputs": [
        {
          "output_type": "stream",
          "name": "stdout",
          "text": [
            "INFO:tensorflow:Assets written to: /content/drive/MyDrive/Fall 2021/Engineering Intramurals/assets\n"
          ]
        }
      ]
    },
    {
      "cell_type": "code",
      "metadata": {
        "id": "bofZYPq9sXUw"
      },
      "source": [
        "test_data_path = '/content/drive/MyDrive/Fall 2021/Engineering Intramurals /Rochester(21-21).txt'\n",
        "\n",
        "dates = []           # Date\n",
        "times = []           # Time (EST)\n",
        "discharge = []       # Rate of Discharge (FT^3/s)\n",
        "temperature = []     # Temperature (C)\n",
        "PH = []              # PH \n",
        "dissolved_o2 = []    # Dissolved Oxygen (mg/L)\n",
        "gauge_height = []    # Gauge Height (Ft)\n",
        "\n",
        "\n",
        "with open(test_data_path, newline = '') as test_riverDataSets:\n",
        "    riverDataSet_reader = csv.reader(test_riverDataSets, delimiter='\\t')\n",
        "    for test_riverDataSet in riverDataSet_reader:\n",
        "      if (test_riverDataSet[0] == 'USGS'):\n",
        "        dates.append(test_riverDataSet[2][0:10])\n",
        "        times.append(test_riverDataSet[2][11:])\n",
        "        discharge.append((test_riverDataSet[4]))\n",
        "        temperature.append((test_riverDataSet[6]))\n",
        "        PH.append((test_riverDataSet[8]))\n",
        "        dissolved_o2.append((test_riverDataSet[10]))\n",
        "        gauge_height.append((test_riverDataSet[12]))"
      ],
      "execution_count": null,
      "outputs": []
    },
    {
      "cell_type": "code",
      "metadata": {
        "id": "Oy2cyxhhscuG"
      },
      "source": [
        "year = []\n",
        "month = []\n",
        "day = []\n",
        "hour = []\n",
        "minute = []\n",
        "\n",
        "for date in dates:\n",
        "    year.append(int(date[0:4]))\n",
        "    month.append(int(date[5:7]))\n",
        "    day.append(int(date[8:]))\n",
        "    \n",
        "for time in times:\n",
        "    hour.append(int(time[0:2]))\n",
        "    minute.append(int(time[3:]))"
      ],
      "execution_count": null,
      "outputs": []
    },
    {
      "cell_type": "code",
      "metadata": {
        "id": "zVScE6qJsdAl"
      },
      "source": [
        "AAAAA(discharge)\n",
        "AAAAA(temperature)\n",
        "AAAAA(PH)\n",
        "AAAAA(dissolved_o2)\n",
        "AAAAA(gauge_height)\n",
        "AAAAA(year)\n",
        "AAAAA(month)\n",
        "AAAAA(day)\n",
        "AAAAA(hour)\n",
        "AAAAA(minute)"
      ],
      "execution_count": null,
      "outputs": []
    },
    {
      "cell_type": "code",
      "metadata": {
        "id": "uX4lphCRsdCq"
      },
      "source": [
        "test_riverData = []\n",
        "for number in range(len(dates)):\n",
        "    tempList = []\n",
        "    tempList.append(year[number])\n",
        "    tempList.append(month[number])\n",
        "    tempList.append(day[number])\n",
        "    tempList.append(hour[number])\n",
        "    tempList.append(minute[number])\n",
        "    tempList.append(discharge[number])\n",
        "    tempList.append(temperature[number])\n",
        "    tempList.append(PH[number])\n",
        "    tempList.append(dissolved_o2[number])\n",
        "    test_riverData.append(tempList)"
      ],
      "execution_count": null,
      "outputs": []
    },
    {
      "cell_type": "code",
      "metadata": {
        "id": "N6ZLd6SUvBF-"
      },
      "source": [
        "test_results = {}\n",
        "test_results['dnn_model'] = dnn_model.evaluate(test_riverData, gauge_height, verbose=0)"
      ],
      "execution_count": null,
      "outputs": []
    },
    {
      "cell_type": "code",
      "metadata": {
        "colab": {
          "base_uri": "https://localhost:8080/",
          "height": 80
        },
        "id": "BOoHVArZBqNv",
        "outputId": "c18d54d9-4fad-457d-a170-086f243900e1"
      },
      "source": [
        "pd.DataFrame(test_results, index=['Mean absolute error [MPG]']).T"
      ],
      "execution_count": null,
      "outputs": [
        {
          "output_type": "execute_result",
          "data": {
            "text/html": [
              "<div>\n",
              "<style scoped>\n",
              "    .dataframe tbody tr th:only-of-type {\n",
              "        vertical-align: middle;\n",
              "    }\n",
              "\n",
              "    .dataframe tbody tr th {\n",
              "        vertical-align: top;\n",
              "    }\n",
              "\n",
              "    .dataframe thead th {\n",
              "        text-align: right;\n",
              "    }\n",
              "</style>\n",
              "<table border=\"1\" class=\"dataframe\">\n",
              "  <thead>\n",
              "    <tr style=\"text-align: right;\">\n",
              "      <th></th>\n",
              "      <th>Mean absolute error [MPG]</th>\n",
              "    </tr>\n",
              "  </thead>\n",
              "  <tbody>\n",
              "    <tr>\n",
              "      <th>dnn_model</th>\n",
              "      <td>374.050781</td>\n",
              "    </tr>\n",
              "  </tbody>\n",
              "</table>\n",
              "</div>"
            ],
            "text/plain": [
              "           Mean absolute error [MPG]\n",
              "dnn_model                 374.050781"
            ]
          },
          "metadata": {},
          "execution_count": 20
        }
      ]
    },
    {
      "cell_type": "code",
      "metadata": {
        "colab": {
          "base_uri": "https://localhost:8080/"
        },
        "id": "l7aW0WAxBrPD",
        "outputId": "fce020b9-0d4c-4bd6-8600-ee8068bff9a3"
      },
      "source": [
        "test_results['dnn_model']"
      ],
      "execution_count": null,
      "outputs": [
        {
          "output_type": "execute_result",
          "data": {
            "text/plain": [
              "374.05078125"
            ]
          },
          "metadata": {},
          "execution_count": 21
        }
      ]
    },
    {
      "cell_type": "code",
      "metadata": {
        "colab": {
          "base_uri": "https://localhost:8080/"
        },
        "id": "zpdgxYLR3eiN",
        "outputId": "b14de787-2fe1-407e-b10a-59cf460c3e63"
      },
      "source": [
        "test_predictions = dnn_model.predict(test_riverData)\n",
        "print(gauge_height)\n",
        "print(test_predictions)"
      ],
      "execution_count": null,
      "outputs": [
        {
          "output_type": "stream",
          "name": "stdout",
          "text": [
            "[12.67, 12.66, 12.66, 12.66, 12.66, 12.66, 12.66, 12.66, 12.66, 12.65, 12.66, 12.66, 12.67, 12.67, 12.67, 12.67, 12.67, 12.67, 12.67, 12.67, 12.66, 12.66, 12.65, 12.65, 12.65, 12.65, 12.65, 12.66, 12.66, 12.66, 12.66, 12.66, 12.66, 12.66, 12.66, 12.66, 12.66, 12.66, 12.66, 12.66, 12.65, 12.65, 12.66, 12.63, 12.63, 12.62, 12.65, 12.66, 12.66, 12.58, 12.62, 12.65, 12.68, 12.7, 12.7, 12.69, 12.68, 12.68, 12.7, 12.71, 12.7, 12.7, 12.7, 12.73, 12.74, 12.74, 12.73, 12.72, 12.72, 12.72, 12.73, 12.74, 12.74, 12.74, 12.73, 12.74, 12.74, 12.75, 12.75, 12.75, 12.75, 12.75, 12.75, 12.75, 12.75, 12.75, 12.75, 12.75, 12.75, 12.75, 12.75, 12.76, 12.76, 12.76, 12.76, 12.76, 12.76, 12.76, 12.76, 12.76, 12.76, 12.76, 12.76, 12.76, 12.76, 12.76, 12.76, 12.76, 12.76, 12.76, 12.76, 12.76, 12.76, 12.76, 12.76, 12.76, 12.76, 12.76, 12.76, 12.76, 12.76, 12.76, 12.76, 12.76, 12.76, 12.76, 12.76, 12.75, 12.75, 12.75, 12.75, 12.75, 12.75, 12.74, 12.74, 12.74, 12.75, 12.76, 12.76, 12.76, 12.76, 12.76, 12.76, 12.76, 12.76, 12.76, 12.74, 12.75, 12.75, 12.76, 12.77, 12.77, 12.74, 12.73, 12.75, 12.77, 12.78, 12.78, 12.78, 12.76, 12.75, 12.77, 12.79, 12.79, 12.78, 12.77, 12.76, 12.76, 12.76, 12.77, 12.77, 12.77, 12.76, 12.76, 12.76, 12.77, 12.77, 12.77, 12.76, 12.76, 12.76, 12.76, 12.76, 12.76, 12.76, 12.76, 12.75, 12.75, 12.75, 12.75, 12.75, 12.75, 12.75, 12.75, 12.75, 12.74, 12.74, 12.74, 12.74, 12.74, 12.74, 12.74, 12.73, 12.73, 12.73, 12.73, 12.73, 12.73, 12.72, 12.72, 12.73, 12.72, 12.72, 12.72, 12.73, 12.73, 12.74, 12.74, 12.74, 12.75, 12.74, 12.74, 12.72, 12.71, 12.71, 12.74, 12.76, 12.77, 12.76, 12.75, 12.75, 12.75, 12.76, 12.77, 12.77, 12.77, 12.77, 12.77, 12.78, 12.78, 12.79, 12.79, 12.79, 12.79, 12.8, 12.8, 12.8, 12.81, 12.81, 12.82, 12.83, 12.84, 12.84, 12.84, 12.83, 12.82, 12.82, 12.82, 12.82, 12.81, 12.81, 12.81, 12.81, 12.81, 12.81, 12.81, 12.81, 12.81, 12.81, 12.82, 12.82, 12.82, 12.82, 12.82, 12.82, 12.83, 12.83, 12.83, 12.83, 12.84, 12.84, 12.85, 12.85, 12.86, 12.87, 12.87, 12.88, 12.89, 12.9, 12.91, 12.92, 12.91, 12.91, 12.9, 12.9, 12.91, 12.91, 12.91, 12.9, 12.9, 12.91, 12.91, 12.92, 12.92, 12.93, 12.93, 12.95, 12.96, 12.97, 12.98, 12.93, 12.9, 12.86, 12.85, 12.9, 12.91, 12.91, 12.91, 12.9, 12.91, 12.9, 12.82, 12.8, 12.83, 12.83, 12.84, 12.84, 12.82, 12.82, 12.82, 12.81, 12.82, 12.8, 12.78, 12.76, 12.76, 12.75, 12.76, 12.76, 12.76, 12.76, 12.74, 12.9, 12.76, 12.59, 12.51, 12.45, 12.4, 12.46, 12.58, 12.62, 12.62, 12.61, 12.6, 12.58, 12.57, 12.56, 12.54, 12.52, 12.51, 12.5, 12.5, 12.5, 12.5, 12.5, 12.5, 12.5, 12.5, 12.5, 12.51, 12.51, 12.51, 12.51, 12.52, 12.52, 12.52, 12.53, 12.53, 12.53, 12.53, 12.54, 12.54, 12.54, 12.53, 12.53, 12.52, 12.52, 12.52, 12.52, 12.52, 12.52, 12.52, 12.53, 12.53, 12.53, 12.54, 12.54, 12.54, 12.54, 12.54, 12.54, 12.54, 12.54, 12.54, 12.54, 12.54, 12.54, 12.52, 12.5, 12.48, 12.48, 12.47, 12.46, 12.46, 12.46, 12.45, 12.45, 12.45, 12.45, 12.46, 12.43, 12.42, 12.4, 12.4, 12.39, 12.39, 12.38, 12.37, 12.36, 12.35, 12.36, 12.36, 12.37, 12.37, 12.37, 12.37, 12.37, 12.38, 12.38, 12.38, 12.37, 12.38, 12.4, 12.43, 12.44, 12.43, 12.19, 12.17, 12.15, 12.13, 12.18, 12.21, 12.21, 12.22, 12.23, 12.23, 12.24, 12.25, 12.26, 12.27, 12.27, 12.27, 12.27, 12.27, 12.28, 12.27, 12.26, 12.22, 12.21, 12.2, 12.2, 12.19, 12.18, 12.18, 12.17, 12.16, 12.16, 12.15, 12.15, 12.15, 12.15, 12.14, 12.14, 12.14, 12.14, 12.15, 12.15, 12.15, 12.15, 12.15, 12.15, 12.15, 12.15, 12.15, 12.15, 12.14, 12.14, 12.14, 12.14, 12.13, 12.13, 12.13, 12.12, 12.12, 12.12, 12.13, 12.15, 12.16, 12.16, 12.17, 12.17, 12.17, 12.17, 12.17, 12.17, 12.16, 12.16, 12.15, 12.16, 12.19, 12.22, 12.24, 12.24, 12.24, 12.23, 12.23, 12.22, 12.22, 12.21, 12.21, 12.21, 12.2, 12.19, 12.18, 12.18, 12.18, 12.19, 12.19, 12.2, 12.21, 12.22, 12.23, 12.23, 12.23, 12.23, 12.23, 12.24, 12.24, 12.23, 12.23, 12.24, 12.23, 12.23, 12.23, 12.23, 12.23, 12.23, 12.22, 12.22, 12.21, 12.21, 12.21, 12.2, 12.2, 12.2, 12.2, 12.21, 12.21, 12.2, 12.2, 12.2, 12.2, 12.2, 12.19, 12.19, 12.19, 12.18, 12.18, 12.17, 12.17, 12.17, 12.17, 12.17, 12.16, 12.16, 12.16, 12.15, 12.15, 12.15, 12.15, 12.15, 12.15, 12.16, 12.35, 12.36, 12.4, 12.38, 12.3, 12.28, 12.28, 12.29, 12.36, 12.38, 12.37, 12.37, 12.38, 12.39, 12.4, 12.42, 12.43, 12.44, 12.44, 12.44, 12.44, 12.45, 12.45, 12.45, 12.45, 12.45, 12.46, 12.46, 12.45, 12.44, 12.34, 12.31, 12.31, 12.31, 12.32, 12.32, 12.32, 12.32, 12.32, 12.32, 12.33, 12.33, 12.35, 12.36, 12.37, 12.38, 12.38, 12.38, 12.38, 12.36, 12.35, 12.34, 12.36, 12.37, 12.38, 12.38, 12.37, 12.37, 12.36, 12.36, 12.36, 12.36, 12.35, 12.34, 12.34, 12.33, 12.33, 12.32, 12.32, 12.31, 12.33, 12.37, 12.39, 12.4, 12.4, 12.4, 12.41, 12.41, 12.42, 12.42, 12.42, 12.42, 12.41, 12.41, 12.41, 12.41, 12.41, 12.4, 12.4, 12.4, 12.39, 12.61, 12.62, 12.63, 12.64, 12.66, 12.67, 12.7, 12.72, 12.73, 12.74, 12.74, 12.74, 12.74, 12.73, 12.72, 12.72, 12.72, 12.72, 12.72, 12.72, 12.72, 12.72, 12.72, 12.72, 12.72, 12.71, 12.71, 12.71, 12.71, 12.71, 12.71, 12.7, 12.69, 12.69, 12.7, 12.7, 12.7, 12.7, 12.69, 12.68, 12.68, 12.68, 12.68, 12.68, 12.68, 12.68, 12.68, 12.65, 12.64, 12.64, 12.64, 12.65, 12.69, 12.7, 12.7, 12.68, 12.67, 12.67, 12.67, 12.67, 12.67, 12.67, 12.66, 12.66, 12.66, 12.65, 12.65, 12.65, 12.64, 12.64, 12.63, 12.63, 12.62, 12.62, 12.61, 12.61, 12.6, 12.6, 12.59, 12.59, 12.58, 12.57, 12.57, 12.56, 12.55, 12.55, 12.54, 12.53, 12.53, 12.52, 12.51, 12.51, 12.5, 12.5, 12.49, 12.48, 12.48, 12.47, 12.46, 12.45, 12.45, 12.44, 12.44, 12.43, 12.48, 12.58, 12.61, 12.61, 12.62, 12.63, 12.64, 12.67, 12.69, 12.69, 12.69, 12.7, 12.7, 12.71, 12.72, 12.73, 12.74, 12.74, 12.74, 12.75, 12.75, 12.76, 12.77, 12.77, 12.78, 12.78, 12.78, 12.78, 12.77, 12.77, 12.77, 12.74, 12.73, 12.72, 12.75, 12.76, 12.77, 12.76, 12.75, 12.74, 12.73, 12.72, 12.72, 12.73, 12.74, 12.75, 12.75, 12.75, 12.74, 12.74, 12.75, 12.75, 12.75, 12.75, 12.75, 12.75, 12.75, 12.75, 12.75, 12.75, 12.75, 12.75, 12.75, 12.75, 12.75, 12.75, 12.75, 12.75, 12.75, 12.75, 12.75, 12.75, 12.74, 12.74, 12.74, 12.74, 12.74, 12.74, 12.73, 12.73, 12.73, 12.73, 12.73, 12.73, 12.72, 12.72, 12.72, 12.72, 12.71, 12.71, 12.72, 12.71, 12.71, 12.71, 12.71, 12.7, 12.7, 12.7, 12.7, 12.7, 12.69, 12.69, 12.69, 12.69, 12.69, 12.68, 12.68, 12.68, 12.68, 12.68, 12.67, 12.67, 12.67, 12.66, 12.63, 12.62, 12.63, 12.64, 12.65, 12.66, 12.65, 12.58, 12.63, 12.65, 12.69, 12.7, 12.7, 12.63, 12.61, 12.62, 12.66, 12.69, 12.7, 12.65, 12.63, 12.63, 12.64, 12.66, 12.7, 12.71, 12.7, 12.69, 12.68, 12.68, 12.69, 12.7, 12.7, 12.7, 12.7, 12.7, 12.7, 12.71, 12.71, 12.71, 12.71, 12.71, 12.71, 12.72, 12.72, 12.72, 12.72, 12.71, 12.71, 12.71, 12.71, 12.71, 12.72, 12.71, 12.72, 12.72, 12.72, 12.72, 12.71, 12.71, 12.71, 12.71, 12.71, 12.71, 12.71, 12.7, 12.7, 12.7, 12.7, 12.71, 12.7, 12.7, 12.7, 12.7, 12.7, 12.7, 12.7, 12.7, 12.7, 12.69, 12.69, 12.69, 12.69, 12.69, 12.69, 12.69, 12.68, 12.63, 12.64, 12.65, 12.67, 12.68, 12.68, 12.68, 12.67, 12.66, 12.67, 12.67, 12.68, 12.68, 12.67, 12.67, 12.67, 12.67, 12.68, 12.65, 12.64, 12.63, 12.68, 12.69, 12.69, 12.68, 12.67, 12.67, 12.67, 12.67, 12.65, 12.63, 12.63, 12.64, 12.66, 12.67, 12.67, 12.66, 12.66, 12.65, 12.66, 12.66, 12.66, 12.67, 12.68, 12.7, 12.72, 12.73, 12.74, 12.75, 12.75, 12.76, 12.77, 12.77, 12.78, 12.78, 12.79, 12.79, 12.8, 12.8, 12.8, 12.81, 12.81, 12.81, 12.82, 12.82, 12.82, 12.83, 12.83, 12.83, 12.83, 12.84, 12.84, 12.84, 12.84, 12.84, 12.84, 12.84, 12.84, 12.79, 12.76, 12.75, 12.74, 12.73, 12.72, 12.69, 12.67, 12.69, 12.71, 12.72, 12.72, 12.72, 12.72, 12.72, 12.72, 12.72, 12.72, 12.72, 12.72, 12.72, 12.72, 12.72, 12.72, 12.72, 12.72, 12.72, 12.72, 12.72, 12.71, 12.71, 12.71, 12.72, 12.71, 12.71, 12.7, 12.7, 12.71, 12.71, 12.71, 12.7, 12.7, 12.7, 12.71, 12.71, 12.71, 12.71, 12.71, 12.7, 12.7, 12.71, 12.67, 12.67, 12.66, 12.7, 12.71, 12.72, 12.7, 12.69, 12.69, 12.68, 12.69, 12.69, 12.69, 12.69, 12.68, 12.68, 12.68, 12.68, 12.68, 12.67, 12.67, 12.67, 12.67, 12.67, 12.67, 12.67, 12.66, 12.66, 12.66, 12.66, 12.66, 12.66, 12.66, 12.66, 12.67, 12.67, 12.67, 12.67, 12.67, 12.67, 12.67, 12.67, 12.68, 12.68, 12.68, 12.68, 12.68, 12.68, 12.68, 12.68, 12.68, 12.68, 12.68, 12.68, 12.68, 12.68, 12.68, 12.68, 12.68, 12.68, 12.68, 12.67, 12.67, 12.67, 12.67, 12.67, 12.68, 12.69, 12.71, 12.72, 12.74, 12.75, 12.79, 12.8, 12.81, 12.82, 12.83, 12.85, 12.86, 12.87, 12.88, 12.89, 12.89, 12.9, 12.92, 12.93, 12.94, 12.94, 12.94, 12.95, 12.95, 12.96, 12.96, 12.97, 12.97, 12.97, 12.98, 12.98, 12.99, 12.99, 12.99, 12.99, 12.99, 12.98, 12.97, 12.96, 12.95, 12.94, 12.94, 12.93, 12.93, 12.92, 12.92, 12.92, 12.91, 12.91, 12.9, 12.9, 12.9, 12.89, 12.89, 12.89, 12.88, 12.88, 12.87, 12.87, 12.87, 12.86, 12.86, 12.85, 12.85, 12.85, 12.85, 12.84, 12.84, 12.84, 12.84, 12.83, 12.83, 12.83, 12.83, 12.83, 12.82, 12.82, 12.82, 12.82, 12.82, 12.81, 12.81, 12.81, 12.81, 12.81, 12.81, 12.81, 12.81, 12.81, 12.8, 12.8, 12.8, 12.8, 12.8, 12.8, 12.8, 12.8, 12.8, 12.8, 12.8, 12.8, 12.8, 12.79, 12.79, 12.79, 12.79, 12.79, 12.79, 12.79, 12.79, 12.79, 12.79, 12.79, 12.79, 12.79, 12.79, 12.79, 12.79, 12.79, 12.78, 12.79, 12.78, 12.79, 12.8, 12.79, 12.8, 12.8, 12.8, 12.8, 12.8, 12.8, 12.8, 12.8, 12.79, 12.8, 12.8, 12.8, 12.8, 12.8, 12.8, 12.8, 12.79, 12.79, 12.79, 12.79, 12.79, 12.79, 12.79, 12.78, 12.78, 12.78, 12.78, 12.78, 12.78, 12.78, 12.78, 12.78, 12.77, 12.77, 12.77, 12.77, 12.77, 12.77, 12.77, 12.77, 12.76, 12.76, 12.76, 12.77, 12.77, 12.77, 12.77, 12.77, 12.77, 12.77, 12.77, 12.77, 12.77, 12.77, 12.77, 12.77, 12.77, 12.76, 12.76, 12.76, 12.76, 12.76, 12.76, 12.79, 12.81, 12.82, 12.83, 12.84, 12.79, 12.77, 12.77, 12.78, 12.78, 12.78, 12.77, 12.76, 12.75, 12.74, 12.74, 12.74, 12.74, 12.73, 12.72, 12.72, 12.72, 12.72, 12.72, 12.72, 12.71, 12.71, 12.7, 12.7, 12.7, 12.69, 12.69, 12.69, 12.68, 12.68, 12.68, 12.67, 12.67, 12.67, 12.66, 12.66, 12.66, 12.66, 12.66, 12.65, 12.65, 12.65, 12.65, 12.65, 12.72, 12.74, 12.73, 12.72, 12.72, 12.71, 12.71, 12.71, 12.7, 12.7, 12.69, 12.69, 12.69, 12.69, 12.68, 12.68, 12.68, 12.68, 12.68, 12.68, 12.68, 12.68, 12.68, 12.68, 12.68, 12.68, 12.67, 12.67, 12.67, 12.67, 12.67, 12.67, 12.67, 12.67, 12.67, 12.67, 12.67, 12.68, 12.68, 12.69, 12.69, 12.71, 12.72, 12.77, 12.78, 12.79, 12.79, 12.76, 12.75, 12.73, 12.73, 12.73, 12.72, 12.72, 12.72, 12.72, 12.72, 12.72, 12.72, 12.72, 12.72, 12.72, 12.72, 12.72, 12.71, 12.71, 12.71, 12.71, 12.71, 12.71, 12.71, 12.71, 12.71, 12.71, 12.71, 12.71, 12.71, 12.71, 12.71, 12.71, 12.71, 12.71, 12.71, 12.72, 12.72, 12.72, 12.72, 12.72, 12.72, 12.72, 12.71, 12.71, 12.71]\n",
            "[[-280.855]\n",
            " [-284.131]\n",
            " [-286.559]\n",
            " ...\n",
            " [-399.822]\n",
            " [-400.428]\n",
            " [-401.034]]\n"
          ]
        }
      ]
    },
    {
      "cell_type": "code",
      "metadata": {
        "colab": {
          "base_uri": "https://localhost:8080/",
          "height": 283
        },
        "id": "F6D6X2_62yc1",
        "outputId": "78754d54-9ea1-45eb-b18a-9441229a8c18"
      },
      "source": [
        "test_predictions = dnn_model.predict(test_riverData).flatten()\n",
        "\n",
        "a = plt.axes(aspect='equal')\n",
        "plt.scatter(gauge_height, test_predictions)\n",
        "plt.xlabel('True Values [MPG]')\n",
        "plt.ylabel('Predictions [MPG]')\n",
        "lims = [0, 1]\n",
        "plt.xlim(lims)\n",
        "plt.ylim(lims)\n",
        "_ = plt.plot(lims, lims)"
      ],
      "execution_count": null,
      "outputs": [
        {
          "output_type": "display_data",
          "data": {
            "image/png": "[encoded data removed]",
            "text/plain": [
              "<Figure size 432x288 with 1 Axes>"
            ]
          },
          "metadata": {
            "needs_background": "light"
          }
        }
      ]
    },
    {
      "cell_type": "code",
      "metadata": {
        "colab": {
          "base_uri": "https://localhost:8080/",
          "height": 279
        },
        "id": "2cGieemq6P95",
        "outputId": "3da446c2-8371-416a-8731-2491eecbf17f"
      },
      "source": [
        "error = test_predictions - gauge_height\n",
        "plt.hist(error, bins=25)\n",
        "plt.xlabel('Prediction Error [MPG]')\n",
        "_ = plt.ylabel('Count')\n"
      ],
      "execution_count": null,
      "outputs": [
        {
          "output_type": "display_data",
          "data": {
            "image/png": "[encoded data removed]",
            "text/plain": [
              "<Figure size 432x288 with 1 Axes>"
            ]
          },
          "metadata": {
            "needs_background": "light"
          }
        }
      ]
    },
    {
      "cell_type": "code",
      "metadata": {
        "id": "Ebi23Cf66P-r"
      },
      "source": [
        ""
      ],
      "execution_count": null,
      "outputs": []
    }
  ]
}