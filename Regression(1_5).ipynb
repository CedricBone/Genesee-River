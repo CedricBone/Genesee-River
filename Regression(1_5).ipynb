{
  "nbformat": 4,
  "nbformat_minor": 0,
  "metadata": {
    "colab": {
      "name": "Regression(1.5).ipynb",
      "provenance": [],
      "mount_file_id": "1Q5siv-8Z2knF3jzfGhJrT7ybrMHRkIA6",
      "authorship_tag": "ABX9TyOwQVX+ascj7XCVVcW6BY2A",
      "include_colab_link": true
    },
    "kernelspec": {
      "name": "python3",
      "display_name": "Python 3"
    },
    "language_info": {
      "name": "python"
    }
  },
  "cells": [
    {
      "cell_type": "markdown",
      "metadata": {
        "id": "view-in-github",
        "colab_type": "text"
      },
      "source": [
        "<a href=\"https://colab.research.google.com/github/CedricBone/Genesee-River/blob/main/Regression(1_5).ipynb\" target=\"_parent\"><img src=\"https://colab.research.google.com/assets/colab-badge.svg\" alt=\"Open In Colab\"/></a>"
      ]
    },
    {
      "cell_type": "markdown",
      "metadata": {
        "id": "E16lagg69eMJ"
      },
      "source": [
        "## Genesee River Predictions (GRP) 2.0\n",
        "## https://dashboard.waterdata.usgs.gov/app/nwd/?region=lower48&aoi=default"
      ]
    },
    {
      "cell_type": "code",
      "metadata": {
        "colab": {
          "base_uri": "https://localhost:8080/"
        },
        "id": "eJjIKJ1cuG4o",
        "outputId": "4f83d562-d181-40fa-be44-9a65fd81634e"
      },
      "source": [
        "from google.colab import drive\n",
        "drive.mount('/content/drive')"
      ],
      "execution_count": 13,
      "outputs": [
        {
          "output_type": "stream",
          "name": "stdout",
          "text": [
            "Drive already mounted at /content/drive; to attempt to forcibly remount, call drive.mount(\"/content/drive\", force_remount=True).\n"
          ]
        }
      ]
    },
    {
      "cell_type": "code",
      "metadata": {
        "id": "xy-s4d77uPH8"
      },
      "source": [
        "import numpy as np\n",
        "import csv\n",
        "import matplotlib.pyplot as plt\n",
        "import pandas as pd\n",
        "import seaborn as sns\n",
        "# Make NumPy printouts easier to read.\n",
        "np.set_printoptions(precision=3, suppress=True)\n",
        "import tensorflow as tf\n",
        "from tensorflow import keras\n",
        "from tensorflow.keras import layers\n",
        "from tensorflow.keras.layers.experimental import preprocessing"
      ],
      "execution_count": 14,
      "outputs": []
    },
    {
      "cell_type": "code",
      "metadata": {
        "id": "MtV7RERsuPNs"
      },
      "source": [
        "def clean_data(list):\n",
        "  row = 0\n",
        "  numMissingData = 0\n",
        "  for data in list:\n",
        "    if(data == ''):\n",
        "      data = 0\n",
        "      list[row] = 0\n",
        "      numMissingData += 1\n",
        "    else:\n",
        "      try:\n",
        "        list[row] = int(data)\n",
        "      except:\n",
        "        list[row] = float(data)\n",
        "    row+=1\n",
        "  mean =sum(list) / (len(list) - numMissingData)\n",
        "  for index in range (0, len(list)):\n",
        "    if list[index] == 0\n",
        "     list[index] = mean"
      ],
      "execution_count": 15,
      "outputs": []
    },
    {
      "cell_type": "code",
      "metadata": {
        "id": "P3HyByze6VQW"
      },
      "source": [
        "def normilize(data_set):\n",
        "  mean = 0\n",
        "  for data in data_set:\n",
        "    mean += data\n",
        "  mean = mean/len(data_set)\n",
        "\n",
        "  std = 0\n",
        "  for data in data_set:\n",
        "    std += (data - mean)**2\n",
        "  std = (std/len(data_set))**(1/2)\n",
        "  if(std==0):\n",
        "    std = 0.00000000000000001\n",
        "\n",
        "  row = 0\n",
        "  for data in data_set:\n",
        "    data_set[row] = abs( (data-mean)/std )\n",
        "    row+=1"
      ],
      "execution_count": 16,
      "outputs": []
    },
    {
      "cell_type": "code",
      "metadata": {
        "id": "G9QRVb99D_Qq"
      },
      "source": [
        "def build_and_compile_model(norm):\n",
        "  model = keras.Sequential([\n",
        "      norm,\n",
        "      layers.Dense(64, activation='relu'),\n",
        "      layers.Dense(64, activation='relu'),\n",
        "      layers.Dense(64, activation='relu'),\n",
        "      layers.Dense(1)\n",
        "      ])\n",
        "  model.compile(loss='mean_absolute_error', optimizer=tf.keras.optimizers.Adam(0.001))\n",
        "  return model"
      ],
      "execution_count": 17,
      "outputs": []
    },
    {
      "cell_type": "code",
      "metadata": {
        "id": "u6qFBiYIuPK8"
      },
      "source": [
        "def plot_loss(history):\n",
        "  plt.plot(history.history['loss'], label='loss')\n",
        "  plt.plot(history.history['val_loss'], label='val_loss')\n",
        "  plt.ylim([0, 10])\n",
        "  plt.xlabel('Epoch')\n",
        "  plt.ylabel('Error [MPG]')\n",
        "  plt.legend()\n",
        "  plt.grid(True)"
      ],
      "execution_count": 18,
      "outputs": []
    },
    {
      "cell_type": "code",
      "metadata": {
        "id": "_quJ2paJuPQr"
      },
      "source": [
        "train_data_path = '/content/drive/MyDrive/Fall 2021/Engineering Intramurals /Rochester(11-21).txt'\n",
        "\n",
        "train_dates = []           # Date\n",
        "train_times = []           # Time (EST)\n",
        "train_discharge = []       # Rate of Discharge (FT^3/s)\n",
        "train_temperature = []     # Temperature (C)\n",
        "train_PH = []              # PH \n",
        "train_dissolved_o2 = []    # Dissolved Oxygen (mg/L)\n",
        "train_gauge_height = []    # Gauge Height (Ft)\n",
        "\n",
        "\n",
        "with open(train_data_path, newline = '') as train_riverDataSets:\n",
        "    riverDataSet_reader = csv.reader(train_riverDataSets, delimiter='\\t')\n",
        "    for train_riverDataSet in riverDataSet_reader:\n",
        "      \n",
        "      train_dates.append(train_riverDataSet[2][0:10])\n",
        "      train_times.append(train_riverDataSet[2][11:])\n",
        "      train_discharge.append((train_riverDataSet[4]))\n",
        "      train_temperature.append((train_riverDataSet[6]))\n",
        "      train_PH.append((train_riverDataSet[8]))\n",
        "      train_dissolved_o2.append((train_riverDataSet[10]))\n",
        "      train_gauge_height.append((train_riverDataSet[12]))"
      ],
      "execution_count": 19,
      "outputs": []
    },
    {
      "cell_type": "code",
      "metadata": {
        "id": "SAwKuC7VxuAl"
      },
      "source": [
        "train_year = []\n",
        "train_month = []\n",
        "train_day = []\n",
        "train_hour = []\n",
        "train_minute = []\n",
        "\n",
        "for date in train_dates:\n",
        "    train_year.append(int(date[0:4]))\n",
        "    train_month.append(int(date[5:7]))\n",
        "    train_day.append(int(date[8:]))\n",
        "    \n",
        "for time in train_times:\n",
        "    train_hour.append(int(time[0:2]))\n",
        "    train_minute.append(int(time[3:]))"
      ],
      "execution_count": 20,
      "outputs": []
    },
    {
      "cell_type": "code",
      "metadata": {
        "id": "Ys-1LxR8xuDE"
      },
      "source": [
        "clean_data(train_discharge)\n",
        "#normilize(train_discharge)\n",
        "\n",
        "clean_data(train_temperature)\n",
        "#normilize(train_temperature)\n",
        "\n",
        "clean_data(train_PH)\n",
        "#normilize(train_PH)\n",
        "\n",
        "clean_data(train_dissolved_o2)\n",
        "#normilize(train_dissolved_o2)\n",
        "\n",
        "clean_data(train_gauge_height)\n",
        "#normilize(train_gauge_height)\n",
        "\n",
        "clean_data(train_year)\n",
        "#normilize(train_year)\n",
        "\n",
        "clean_data(train_month)\n",
        "#normilize(train_month)\n",
        "\n",
        "clean_data(train_day)\n",
        "#normilize(train_day)\n",
        "\n",
        "clean_data(train_hour)\n",
        "#normilize(train_hour)\n",
        "\n",
        "clean_data(train_minute)\n",
        "#normilize(train_minute)"
      ],
      "execution_count": 21,
      "outputs": []
    },
    {
      "cell_type": "code",
      "metadata": {
        "id": "22BodxwpxuF0"
      },
      "source": [
        "train_riverData = []\n",
        "for number in range(len(train_dates)):\n",
        "    tempList = []\n",
        "    tempList.append(train_year[number])\n",
        "    tempList.append(train_month[number])\n",
        "    tempList.append(train_day[number])\n",
        "    tempList.append(train_hour[number])\n",
        "    tempList.append(train_minute[number])\n",
        "    tempList.append(train_discharge[number])\n",
        "    tempList.append(train_temperature[number])\n",
        "    tempList.append(train_PH[number])\n",
        "    tempList.append(train_dissolved_o2[number])\n",
        "    train_riverData.append(tempList)"
      ],
      "execution_count": 22,
      "outputs": []
    },
    {
      "cell_type": "code",
      "metadata": {
        "id": "42JUfFX8xuMf"
      },
      "source": [
        "#model_path = '/content/drive/MyDrive/Fall 2021/Engineering Intramurals /my_model.h5'\n",
        "#dnn_model = tf.keras.models.load_model(model_path)"
      ],
      "execution_count": 23,
      "outputs": []
    },
    {
      "cell_type": "code",
      "metadata": {
        "id": "9G6U9CGnEFAf"
      },
      "source": [
        "normalizer = tf.keras.layers.Normalization(axis=-1)\n",
        "normalizer.adapt(np.array(train_riverData))\n",
        "dnn_model = build_and_compile_model(normalizer)"
      ],
      "execution_count": 24,
      "outputs": []
    },
    {
      "cell_type": "code",
      "metadata": {
        "id": "7MNPMOAjEFEu",
        "colab": {
          "base_uri": "https://localhost:8080/"
        },
        "outputId": "144de86c-5577-403a-9dd1-1e58635df182"
      },
      "source": [
        "%%time\n",
        "history = dnn_model.fit(\n",
        "    np.array(train_riverData),\n",
        "    np.array(train_gauge_height),\n",
        "    validation_split=0.2,\n",
        "    verbose=0, epochs=100)"
      ],
      "execution_count": 25,
      "outputs": [
        {
          "output_type": "stream",
          "name": "stdout",
          "text": [
            "CPU times: user 25min 8s, sys: 2min 33s, total: 27min 41s\n",
            "Wall time: 19min 49s\n"
          ]
        }
      ]
    },
    {
      "cell_type": "code",
      "metadata": {
        "id": "z2ojr2NkFutq",
        "colab": {
          "base_uri": "https://localhost:8080/",
          "height": 283
        },
        "outputId": "11ddf35f-e7fd-4a16-aab1-91093e4b1738"
      },
      "source": [
        "plot_loss(history)"
      ],
      "execution_count": 26,
      "outputs": [
        {
          "output_type": "display_data",
          "data": {
            "image/png": "[encoded data removed]",
            "text/plain": [
              "<Figure size 432x288 with 1 Axes>"
            ]
          },
          "metadata": {
            "needs_background": "light"
          }
        }
      ]
    },
    {
      "cell_type": "code",
      "metadata": {
        "colab": {
          "base_uri": "https://localhost:8080/"
        },
        "id": "888NtiiWdMxr",
        "outputId": "f7373daa-bf1c-47d0-8aca-5c89a99fb234"
      },
      "source": [
        "dnn_model.evaluate(train_riverData, train_gauge_height, verbose=0)"
      ],
      "execution_count": 27,
      "outputs": [
        {
          "output_type": "execute_result",
          "data": {
            "text/plain": [
              "0.7544804215431213"
            ]
          },
          "metadata": {},
          "execution_count": 27
        }
      ]
    },
    {
      "cell_type": "code",
      "metadata": {
        "id": "RnRtwI90zDGD"
      },
      "source": [
        "test_data_path = '/content/drive/MyDrive/Fall 2021/Engineering Intramurals /Rochester(21-21).txt'\n",
        "\n",
        "test_dates = []           # Date\n",
        "test_times = []           # Time (EST)\n",
        "test_discharge = []       # Rate of Discharge (FT^3/s)\n",
        "test_temperature = []     # Temperature (C)\n",
        "test_PH = []              # PH \n",
        "test_dissolved_o2 = []    # Dissolved Oxygen (mg/L)\n",
        "test_gauge_height = []    # Gauge Height (Ft)\n",
        "\n",
        "\n",
        "with open(test_data_path, newline = '') as test_riverDataSets:\n",
        "    riverDataSet_reader = csv.reader(test_riverDataSets, delimiter='\\t')\n",
        "    for test_riverDataSet in riverDataSet_reader:\n",
        "      if (test_riverDataSet[0] == 'USGS'):\n",
        "        test_dates.append(test_riverDataSet[2][0:10])\n",
        "        test_times.append(test_riverDataSet[2][11:])\n",
        "        test_discharge.append((test_riverDataSet[4]))\n",
        "        test_temperature.append((test_riverDataSet[6]))\n",
        "        test_PH.append((test_riverDataSet[8]))\n",
        "        test_dissolved_o2.append((test_riverDataSet[10]))\n",
        "        test_gauge_height.append((test_riverDataSet[12]))"
      ],
      "execution_count": 28,
      "outputs": []
    },
    {
      "cell_type": "code",
      "metadata": {
        "id": "H5M0EduFzDIj"
      },
      "source": [
        "test_year = []\n",
        "test_month = []\n",
        "test_day = []\n",
        "test_hour = []\n",
        "test_minute = []\n",
        "\n",
        "for date in test_dates:\n",
        "    test_year.append(int(date[0:4]))\n",
        "    test_month.append(int(date[5:7]))\n",
        "    test_day.append(int(date[8:]))\n",
        "    \n",
        "for time in test_times:\n",
        "    test_hour.append(int(time[0:2]))\n",
        "    test_minute.append(int(time[3:]))"
      ],
      "execution_count": 29,
      "outputs": []
    },
    {
      "cell_type": "code",
      "metadata": {
        "id": "01zNQg8RzDLa"
      },
      "source": [
        "clean_data(test_discharge)\n",
        "#normilize(test_discharge)\n",
        "\n",
        "clean_data(test_temperature)\n",
        "#normilize(test_temperature)\n",
        "\n",
        "clean_data(test_PH)\n",
        "#normilize(test_PH)\n",
        "\n",
        "clean_data(test_dissolved_o2)\n",
        "#normilize(test_dissolved_o2)\n",
        "\n",
        "clean_data(test_gauge_height)\n",
        "#normilize(test_gauge_height)\n",
        "\n",
        "clean_data(test_year)\n",
        "#normilize(test_year)\n",
        "\n",
        "clean_data(test_month)\n",
        "#normilize(test_month)\n",
        "\n",
        "clean_data(test_day)\n",
        "#normilize(test_day)\n",
        "\n",
        "clean_data(test_hour)\n",
        "#normilize(test_hour)\n",
        "\n",
        "clean_data(test_minute)\n",
        "#normilize(test_minute)"
      ],
      "execution_count": 30,
      "outputs": []
    },
    {
      "cell_type": "code",
      "metadata": {
        "id": "tgCE8Vo9zDOE"
      },
      "source": [
        "test_riverData = []\n",
        "for number in range(len(test_dates)):\n",
        "    tempList = []\n",
        "    tempList.append(test_year[number])\n",
        "    tempList.append(test_month[number])\n",
        "    tempList.append(test_day[number])\n",
        "    tempList.append(test_hour[number])\n",
        "    tempList.append(test_minute[number])\n",
        "    tempList.append(test_discharge[number])\n",
        "    tempList.append(test_temperature[number])\n",
        "    tempList.append(test_PH[number])\n",
        "    tempList.append(test_dissolved_o2[number])\n",
        "    test_riverData.append(tempList)"
      ],
      "execution_count": 31,
      "outputs": []
    },
    {
      "cell_type": "code",
      "metadata": {
        "id": "FUUYPD7_zDRU",
        "colab": {
          "base_uri": "https://localhost:8080/"
        },
        "outputId": "a4869423-7b8b-4269-ff68-3e56c41cfa0b"
      },
      "source": [
        "test_predictions = dnn_model.predict(test_riverData)\n",
        "predictions = []\n",
        "for prediction in test_predictions:\n",
        "  predictions.append(prediction[0])\n",
        "data = {'gauge_height':  test_gauge_height,\n",
        "        'test_predictions': predictions}\n",
        "\n",
        "df = pd.DataFrame(data)\n",
        "\n",
        "print (df)"
      ],
      "execution_count": 33,
      "outputs": [
        {
          "output_type": "stream",
          "name": "stdout",
          "text": [
            "      gauge_height  test_predictions\n",
            "0            12.67         12.707086\n",
            "1            12.66         12.707086\n",
            "2            12.66         12.707086\n",
            "3            12.66         12.707086\n",
            "4            12.66         12.707086\n",
            "...            ...               ...\n",
            "1510         12.72         12.707086\n",
            "1511         12.72         12.707086\n",
            "1512         12.71         12.707086\n",
            "1513         12.71         12.707086\n",
            "1514         12.71         12.707086\n",
            "\n",
            "[1515 rows x 2 columns]\n"
          ]
        }
      ]
    },
    {
      "cell_type": "code",
      "metadata": {
        "id": "c8NyCQoZN6Rv",
        "colab": {
          "base_uri": "https://localhost:8080/",
          "height": 80
        },
        "outputId": "b8a2d5d2-07a6-4f4d-bb5d-4cf158f2c48d"
      },
      "source": [
        "test_results = {}\n",
        "test_results['dnn_model'] = dnn_model.evaluate(test_riverData, test_gauge_height, verbose=0)\n",
        "pd.DataFrame(test_results, index=['Mean absolute error [MPG]']).T"
      ],
      "execution_count": 34,
      "outputs": [
        {
          "output_type": "execute_result",
          "data": {
            "text/html": [
              "<div>\n",
              "<style scoped>\n",
              "    .dataframe tbody tr th:only-of-type {\n",
              "        vertical-align: middle;\n",
              "    }\n",
              "\n",
              "    .dataframe tbody tr th {\n",
              "        vertical-align: top;\n",
              "    }\n",
              "\n",
              "    .dataframe thead th {\n",
              "        text-align: right;\n",
              "    }\n",
              "</style>\n",
              "<table border=\"1\" class=\"dataframe\">\n",
              "  <thead>\n",
              "    <tr style=\"text-align: right;\">\n",
              "      <th></th>\n",
              "      <th>Mean absolute error [MPG]</th>\n",
              "    </tr>\n",
              "  </thead>\n",
              "  <tbody>\n",
              "    <tr>\n",
              "      <th>dnn_model</th>\n",
              "      <td>0.133908</td>\n",
              "    </tr>\n",
              "  </tbody>\n",
              "</table>\n",
              "</div>"
            ],
            "text/plain": [
              "           Mean absolute error [MPG]\n",
              "dnn_model                   0.133908"
            ]
          },
          "metadata": {},
          "execution_count": 34
        }
      ]
    },
    {
      "cell_type": "code",
      "metadata": {
        "id": "BVH1q9IkN6UO",
        "colab": {
          "base_uri": "https://localhost:8080/",
          "height": 283
        },
        "outputId": "0f5d2910-7dbb-47d6-b540-8b5c807acb09"
      },
      "source": [
        "a = plt.axes(aspect='equal')\n",
        "plt.scatter(test_gauge_height, test_predictions)\n",
        "plt.xlabel('True Values [MPG]')\n",
        "plt.ylabel('Predictions [MPG]')\n",
        "lims = [0, 100]\n",
        "plt.xlim(lims)\n",
        "plt.ylim(lims)\n",
        "_ = plt.plot(lims, lims)"
      ],
      "execution_count": 37,
      "outputs": [
        {
          "output_type": "display_data",
          "data": {
            "image/png": "[encoded data removed]",
            "text/plain": [
              "<Figure size 432x288 with 1 Axes>"
            ]
          },
          "metadata": {
            "needs_background": "light"
          }
        }
      ]
    },
    {
      "cell_type": "code",
      "metadata": {
        "id": "KtuN2ftjN6dk",
        "colab": {
          "base_uri": "https://localhost:8080/",
          "height": 279
        },
        "outputId": "d2c0d5d2-30a1-4be1-a1b7-20dcf12317b9"
      },
      "source": [
        "error = test_predictions - test_gauge_height\n",
        "plt.hist(error, bins=25)\n",
        "plt.xlabel('Prediction Error [MPG]')\n",
        "_ = plt.ylabel('Count')"
      ],
      "execution_count": 38,
      "outputs": [
        {
          "output_type": "display_data",
          "data": {
            "image/png": "[encoded data removed]",
            "text/plain": [
              "<Figure size 432x288 with 1 Axes>"
            ]
          },
          "metadata": {
            "needs_background": "light"
          }
        }
      ]
    },
    {
      "cell_type": "code",
      "metadata": {
        "id": "dTxdRaAiesMS",
        "colab": {
          "base_uri": "https://localhost:8080/"
        },
        "outputId": "54cb6060-44b5-4548-a11d-97ae86287336"
      },
      "source": [
        "print(test_riverData[200])\n",
        "print(test_gauge_height[200])\n",
        "print(test_predictions[200])"
      ],
      "execution_count": 42,
      "outputs": [
        {
          "output_type": "stream",
          "name": "stdout",
          "text": [
            "[2021, 10, 3, 2, 0, 1190, 16.5, 7.8, 8.6]\n",
            "12.74\n",
            "[12.707]\n"
          ]
        }
      ]
    }
  ]
}
